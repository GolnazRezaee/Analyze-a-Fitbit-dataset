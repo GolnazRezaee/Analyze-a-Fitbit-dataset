{
 "cells": [
  {
   "cell_type": "code",
   "execution_count": 130,
   "metadata": {},
   "outputs": [],
   "source": [
    "from datetime import datetime \n",
    "from pony.orm import *\n",
    "from dash import *\n",
    "import pandas as pd\n",
    "import json\n",
    "import os"
   ]
  },
  {
   "cell_type": "code",
   "execution_count": null,
   "metadata": {},
   "outputs": [],
   "source": [
    "exercise_data = open(f'/Users/Golna/Documents/Health_Care/Health_Care/pmdata/p01/fitbit/exercise.json')\n",
    "sleep_data = open(f'/Users/Golna/Documents/Health_Care/Health_Care/pmdata/p01/fitbit/sleep.json')\n",
    "calories_data = open(f'/Users/Golna/Documents/Health_Care/Health_Care/pmdata/p01/fitbit/calories.json')\n",
    "distance_data = open(f'/Users/Golna/Documents/Health_Care/Health_Care/pmdata/p01/fitbit/distance.json')\n",
    "sleep_score_data = pd.read_csv('/Users/Golna/Documents/Health_Care/Health_Care/pmdata/p01/fitbit/sleep_score.csv')\n",
    "partecipant_data = pd.read_excel('/Users/Golna/Documents/Health_Care/Health_Care/pmdata/participant-overview.xlsx')\n"
   ]
  },
  {
   "cell_type": "code",
   "execution_count": 99,
   "metadata": {},
   "outputs": [],
   "source": [
    "e = json.load(exercise_data)\n",
    "s = json.load(sleep_data)\n",
    "c = json.load(calories_data)\n",
    "d = json.load(distance_data)"
   ]
  },
  {
   "cell_type": "code",
   "execution_count": 100,
   "metadata": {},
   "outputs": [],
   "source": [
    "participant_list = partecipant_data.iloc[0].tolist()\n",
    "SleepScore_list = sleep_score_data.values.tolist()\n",
    "exercise_list = list(e)\n",
    "Sleep_list = list(s)\n",
    "Calories_list = list(c)\n",
    "Distance_list = list(d)"
   ]
  },
  {
   "cell_type": "code",
   "execution_count": 101,
   "metadata": {},
   "outputs": [],
   "source": [
    "#participant_list"
   ]
  },
  {
   "cell_type": "code",
   "execution_count": 102,
   "metadata": {},
   "outputs": [],
   "source": [
    "db = Database('sqlite', os.getcwd()+ '/Final.sqlite', create_db = True)\n",
    "\n",
    "class Participant(db.Entity):\n",
    "    id = PrimaryKey(str)\n",
    "    age = Optional(int)\n",
    "    height = Optional(int)\n",
    "    gender = Optional(str)\n",
    "    calories = Set(\"Calories\")\n",
    "    exercise = Set(\"Exercise\")\n",
    "    sleep = Set(\"Sleep\")\n",
    "    distance = Set(\"Distance\")\n",
    "    sleep_score = Set(\"Sleep_score\")\n",
    "    exercise_Fact = Set(\"Exercise_Fact\")\n",
    "    daily_activity_fact = Set(\"Daily_Activity_Fact\")\n",
    "    \n",
    "    \n",
    "class Calories (db.Entity):\n",
    "    valid_time = Required(datetime)\n",
    "    participant = Required(Participant)\n",
    "    value = Optional(float)\n",
    "    PrimaryKey(valid_time, participant)\n",
    "\n",
    "\n",
    "class Exercise (db.Entity):\n",
    "    valid_time = Required(datetime)\n",
    "    participant = Required(Participant)\n",
    "    calories = Optional(int)\n",
    "    #logId = Required(int)\n",
    "    duration = Optional(int) # in minutes\n",
    "    PrimaryKey(valid_time, participant)\n",
    "\n",
    "class Sleep (db.Entity):\n",
    "    vt = Required(datetime)\n",
    "    participant = Required(Participant)\n",
    "    duration = Optional(int)\n",
    "    PrimaryKey(vt, participant)\n",
    "\n",
    "class Distance (db.Entity):\n",
    "    valid_time = Required(datetime)\n",
    "    participant = Required(Participant)\n",
    "    value = Optional(float) \n",
    "    PrimaryKey(valid_time, participant)\n",
    "\n",
    "class Sleep_score (db.Entity):\n",
    "    valid_time = Required(datetime)\n",
    "    participant = Required(Participant)\n",
    "    duration = Optional(int)\n",
    "    PrimaryKey(valid_time, participant)\n",
    "\n",
    "class Exercise_Fact(db.Entity):\n",
    "    participant = Required(Participant)\n",
    "    valid_time = Required(datetime)\n",
    "    total_calories = Optional(float)\n",
    "    exercise_count = Optional(int)\n",
    "    Gender = Optional(str)\n",
    "    Age = Optional(int)\n",
    "    Duration = Optional(int)\n",
    "    \n",
    "    PrimaryKey(participant, valid_time)\n",
    "    \n",
    "class Daily_Activity_Fact(db.Entity):\n",
    "    participant = Required(Participant)\n",
    "    valid_time = Required(datetime)\n",
    "    exercise_duration = Optional(int)\n",
    "    calories = Optional(float)\n",
    "    sleep_duration = Optional(float)\n",
    "    distance_cover = Optional(float)\n",
    "    PrimaryKey(valid_time, participant)\n",
    "\n"
   ]
  },
  {
   "cell_type": "code",
   "execution_count": 103,
   "metadata": {},
   "outputs": [],
   "source": [
    "db.generate_mapping(create_tables=True)"
   ]
  },
  {
   "cell_type": "code",
   "execution_count": 104,
   "metadata": {},
   "outputs": [],
   "source": [
    "#partecipant_data"
   ]
  },
  {
   "cell_type": "code",
   "execution_count": 105,
   "metadata": {},
   "outputs": [],
   "source": [
    "# Assuming 'df' is your DataFrame\n",
    "#first_row = partecipant_data.iloc[[0]]"
   ]
  },
  {
   "cell_type": "code",
   "execution_count": 106,
   "metadata": {},
   "outputs": [],
   "source": [
    "#first_row "
   ]
  },
  {
   "cell_type": "code",
   "execution_count": 107,
   "metadata": {},
   "outputs": [],
   "source": [
    "def load_participant(df):\n",
    "    with db_session:\n",
    "        for index , row in df.iterrows():\n",
    "            Participant(\n",
    "                id = row['Participant_ID'],\n",
    "                age = row['Age'],\n",
    "                height = row['Height'],\n",
    "                gender = row['Gender']\n",
    "            )"
   ]
  },
  {
   "cell_type": "code",
   "execution_count": 108,
   "metadata": {},
   "outputs": [],
   "source": [
    "load_participant(partecipant_data)"
   ]
  },
  {
   "cell_type": "code",
   "execution_count": 109,
   "metadata": {},
   "outputs": [],
   "source": [
    "db.commit()"
   ]
  },
  {
   "cell_type": "code",
   "execution_count": 110,
   "metadata": {},
   "outputs": [],
   "source": [
    "@db_session\n",
    "def load_exercise_data(id, exercise_data_path):\n",
    "    if os.path.isfile(exercise_data_path):\n",
    "        exercise_data = pd.read_csv(exercise_data_path)\n",
    "        \n",
    "        # Convert the 'startTime' column to datetime\n",
    "        exercise_data['startTime'] = pd.to_datetime(exercise_data['startTime'])\n",
    "\n",
    "        for row in exercise_data.itertuples(index=False):  # itertuples is more efficient than iterrows\n",
    "            Exercise(\n",
    "                participant=id,\n",
    "                valid_time=row.startTime,\n",
    "                duration=row.originalDuration,\n",
    "                calories = row.calories\n",
    "            )\n",
    "\n"
   ]
  },
  {
   "cell_type": "code",
   "execution_count": 111,
   "metadata": {},
   "outputs": [],
   "source": [
    "@db_session\n",
    "def load_calories_data(id, calories_data_path):\n",
    "    if os.path.isfile(calories_data_path):\n",
    "        calories_data = pd.read_csv(calories_data_path)\n",
    "        \n",
    "        # Convert the 'startTime' column to datetime\n",
    "        calories_data['dateTime'] = pd.to_datetime(calories_data['dateTime'])\n",
    "\n",
    "        for row in calories_data.itertuples(index=False):  # itertuples is more efficient than iterrows\n",
    "            Calories(\n",
    "                participant=id,\n",
    "                valid_time=row.dateTime,\n",
    "                value=row.value\n",
    "            )\n",
    "\n"
   ]
  },
  {
   "cell_type": "code",
   "execution_count": 112,
   "metadata": {},
   "outputs": [],
   "source": [
    "@db_session\n",
    "def load_sleep_data(id, sleep_data_path):\n",
    "    if os.path.isfile(sleep_data_path):\n",
    "        sleep_data = pd.read_csv(sleep_data_path)\n",
    "        \n",
    "        # Convert the 'startTime' column to datetime\n",
    "        sleep_data['startTime'] = pd.to_datetime(sleep_data['startTime'])\n",
    "\n",
    "        for row in sleep_data.itertuples(index=False):\n",
    "            # Check if the record already exists\n",
    "            existing_record = Sleep.get(participant=id, vt=row.startTime)\n",
    "\n",
    "            if existing_record:\n",
    "                print(f\"Record for participant {id} at {row.startTime} already exists. Skipping...\")\n",
    "                continue\n",
    "\n",
    "            # Create a new Sleep record\n",
    "            Sleep(\n",
    "                participant=id,\n",
    "                vt=row.startTime,\n",
    "                duration=row.duration\n",
    "            )\n",
    "        commit()  # Commit changes after processing all records\n"
   ]
  },
  {
   "cell_type": "code",
   "execution_count": 113,
   "metadata": {},
   "outputs": [],
   "source": [
    "@db_session\n",
    "def load_distance_data(id, distance_data_path):\n",
    "    if os.path.isfile(distance_data_path):\n",
    "        distance_data = pd.read_csv(distance_data_path)\n",
    "        \n",
    "        # Convert the 'startTime' column to datetime\n",
    "        distance_data['dateTime'] = pd.to_datetime(distance_data['dateTime'])\n",
    "\n",
    "        for row in distance_data.itertuples(index=False):\n",
    "            # Check if the record already exists\n",
    "            existing_record = Distance.get(participant=id, valid_time=row.dateTime)\n",
    "\n",
    "            if existing_record:\n",
    "                print(f\"Record for participant {id} at {row.dateTime} already exists. Skipping...\")\n",
    "                continue\n",
    "\n",
    "            # Create a new Distance record\n",
    "            Distance(\n",
    "                participant=id,\n",
    "                valid_time=row.dateTime,\n",
    "                value=row.value\n",
    "            )\n",
    "        commit()  # Commit changes after processing all records\n"
   ]
  },
  {
   "cell_type": "code",
   "execution_count": 114,
   "metadata": {},
   "outputs": [],
   "source": [
    "@db_session\n",
    "def load_sleep_score_data(id, sleep_score_data_path):\n",
    "    if os.path.isfile(sleep_score_data_path):\n",
    "        sleep_score_data = pd.read_csv(sleep_score_data_path)\n",
    "        \n",
    "        # Convert the 'startTime' column to datetime\n",
    "        sleep_score_data['timestamp'] = pd.to_datetime(sleep_score_data['timestamp'])\n",
    "\n",
    "        for row in sleep_score_data.itertuples(index=False):  # itertuples is more efficient than iterrows\n",
    "            Sleep_score(\n",
    "                participant=id,\n",
    "                valid_time=row.timestamp,\n",
    "                duration=row.duration_score\n",
    "            )\n",
    "\n"
   ]
  },
  {
   "cell_type": "code",
   "execution_count": 115,
   "metadata": {},
   "outputs": [
    {
     "name": "stdout",
     "output_type": "stream",
     "text": [
      "Record for participant p01 at 2019-11-06 23:45:30 already exists. Skipping...\n",
      "Record for participant p01 at 2019-12-06 23:29:00 already exists. Skipping...\n",
      "Record for participant p01 at 2020-01-06 00:35:30 already exists. Skipping...\n",
      "Record for participant p01 at 2020-02-05 00:16:30 already exists. Skipping...\n",
      "Record for participant p01 at 2020-03-05 23:45:00 already exists. Skipping...\n",
      "Record for participant p03 at 2019-11-06 23:45:30 already exists. Skipping...\n",
      "Record for participant p03 at 2019-12-06 23:29:00 already exists. Skipping...\n",
      "Record for participant p03 at 2020-01-06 00:35:30 already exists. Skipping...\n",
      "Record for participant p03 at 2020-02-05 00:16:30 already exists. Skipping...\n",
      "Record for participant p03 at 2020-03-05 23:45:00 already exists. Skipping...\n",
      "Record for participant p05 at 2019-11-06 23:45:30 already exists. Skipping...\n",
      "Record for participant p05 at 2019-12-06 23:29:00 already exists. Skipping...\n",
      "Record for participant p05 at 2020-01-06 00:35:30 already exists. Skipping...\n",
      "Record for participant p05 at 2020-02-05 00:16:30 already exists. Skipping...\n",
      "Record for participant p05 at 2020-03-05 23:45:00 already exists. Skipping...\n",
      "Record for participant p04 at 2019-11-06 23:45:30 already exists. Skipping...\n",
      "Record for participant p04 at 2019-12-06 23:29:00 already exists. Skipping...\n",
      "Record for participant p04 at 2020-01-06 00:35:30 already exists. Skipping...\n",
      "Record for participant p04 at 2020-02-05 00:16:30 already exists. Skipping...\n",
      "Record for participant p04 at 2020-03-05 23:45:00 already exists. Skipping...\n",
      "Record for participant p02 at 2019-11-06 23:45:30 already exists. Skipping...\n",
      "Record for participant p02 at 2019-12-06 23:29:00 already exists. Skipping...\n",
      "Record for participant p02 at 2020-01-06 00:35:30 already exists. Skipping...\n",
      "Record for participant p02 at 2020-02-05 00:16:30 already exists. Skipping...\n",
      "Record for participant p02 at 2020-03-05 23:45:00 already exists. Skipping...\n"
     ]
    }
   ],
   "source": [
    "# Try to oplimize the code that use for loadind data to database But it dosen't work!\n",
    "#I don't know why?\n",
    "import concurrent.futures\n",
    "\n",
    "# Define a function to load data for a single participant\n",
    "def load_data_for_participant(participant):\n",
    "    participant_id = f\"p{participant:02d}\"\n",
    "    base_path = \"/Users/majidtavakoli/Documents/Health_Care/Health_Care/CSV_Data/\"\n",
    "\n",
    "    # Exercise data:\n",
    "    exercise_path = base_path + f\"exercise{participant_id}.csv\"\n",
    "    load_exercise_data(participant_id, exercise_path)\n",
    "\n",
    "    # Calories data:\n",
    "    calories_path = base_path + f\"calories{participant_id}.csv\"\n",
    "    load_calories_data(participant_id, calories_path)\n",
    "\n",
    "    # Sleep data:\n",
    "    sleep_path = base_path + \"sleep01.csv\"  # Assuming consistent path for all participants\n",
    "    load_sleep_data(participant_id, sleep_path)\n",
    "\n",
    "    # Distance data (loaded once):\n",
    "    distance_path = base_path + f\"distance{participant_id}.csv\"\n",
    "    load_distance_data(participant_id, distance_path)\n",
    "\n",
    "    # Sleep score data:\n",
    "    sleep_score_path = base_path + f\"sleep_score{participant_id}.csv\"\n",
    "    load_sleep_score_data(participant_id, sleep_score_path)\n",
    "\n",
    "# Use ThreadPoolExecutor to load data for multiple participants concurrently\n",
    "with concurrent.futures.ThreadPoolExecutor() as executor:\n",
    "    # Load data for participants 1 to 5 concurrently\n",
    "    participant_numbers = range(1, 6)\n",
    "    executor.map(load_data_for_participant, participant_numbers)\n"
   ]
  },
  {
   "cell_type": "code",
   "execution_count": null,
   "metadata": {},
   "outputs": [],
   "source": [
    "for participant_number in range(1, 6):\n",
    "    participant = f\"{participant_number:02d}\"\n",
    "\n",
    "    # Exercise data:\n",
    "    path = r\"/Users/majidtavakoli/Documents/Health_Care/Health_Care/CSV_Data/exercise\" + participant + r\".csv\"\n",
    "    load_exercise_data(\"p\" + participant, path)\n",
    "\n",
    "    # Calories data:\n",
    "    path = r\"/Users/majidtavakoli/Documents/Health_Care/Health_Care/CSV_Data/calories\" + participant + r\".csv\"\n",
    "    load_calories_data(\"p\" + participant, path)\n",
    "\n",
    "    # Sleep data (using a fixed path for \"sleep01.csv\"):\n",
    "    path = r\"/Users/majidtavakoli/Documents/Health_Care/Health_Care/CSV_Data/sleep01.csv\"  # Assuming consistent path for all participants\n",
    "    load_sleep_data(\"p\" + participant, path)\n",
    "\n",
    "    # Distance data (loading once):\n",
    "    path = r\"/Users/majidtavakoli/Documents/Health_Care/Health_Care/CSV_Data/distance\" + participant + r\".csv\"\n",
    "    load_distance_data(\"p\" + participant, path)\n",
    "\n",
    "    # Sleep score data:\n",
    "    path = r\"/Users/majidtavakoli/Documents/Health_Care/Health_Care/CSV_Data/sleep_score\" + participant + r\".csv\"\n",
    "    load_sleep_score_data(\"p\" + participant, path)\n"
   ]
  },
  {
   "cell_type": "code",
   "execution_count": 117,
   "metadata": {},
   "outputs": [],
   "source": [
    "db.commit()"
   ]
  },
  {
   "cell_type": "code",
   "execution_count": 118,
   "metadata": {},
   "outputs": [],
   "source": [
    "from datetime import date\n",
    "\n",
    "def populate_exercise_fact():\n",
    "    for participant in Participant.select():\n",
    "        for exercise in participant.exercise:\n",
    "            exercise_date = exercise.valid_time\n",
    "            # Check if an entry for the participant and date already exists\n",
    "            existing_entry = Exercise_Fact.get(participant=participant, valid_time=exercise_date)\n",
    "            \n",
    "            \n",
    "            Exercise_Fact(\n",
    "                participant=participant,\n",
    "                valid_time=exercise_date,\n",
    "                total_calories=exercise.calories,\n",
    "                exercise_count=1,\n",
    "                Gender = participant.gender,\n",
    "                Age = participant.age,\n",
    "                Duration = exercise.duration\n",
    "                )\n",
    "    commit()\n",
    "\n",
    "populate_exercise_fact()"
   ]
  },
  {
   "cell_type": "code",
   "execution_count": 119,
   "metadata": {},
   "outputs": [],
   "source": [
    "@db_session\n",
    "def populate_daily_activity_fact():\n",
    "    participants = Participant.select()\n",
    "    for participant in participants:\n",
    "        # Retrieve exercise duration for the participant\n",
    "        exercise_duration = sum(exercise.duration for exercise in participant.exercise)\n",
    "        \n",
    "        # Retrieve total calories for the participant\n",
    "        total_calories = sum(calories.value for calories in participant.calories)\n",
    "        \n",
    "        # Retrieve sleep duration for the participant\n",
    "        sleep_duration = sum(sleep.duration for sleep in participant.sleep)\n",
    "        sleep_duration_str = str(sleep_duration)\n",
    "        # Calculate distance covered if applicable\n",
    "        # (You need to define a mechanism to calculate distance covered based on your data)\n",
    "        #distance_covered = calculate_distance_covered(participant)\n",
    "        \n",
    "        # Create Daily_Activity_Fact record\n",
    "        Daily_Activity_Fact(\n",
    "            participant=participant,\n",
    "            valid_time=datetime.now(),  # Replace with appropriate date/time\n",
    "            exercise_duration=exercise_duration,\n",
    "            calories=total_calories,\n",
    "            sleep_duration=sleep_duration_str,\n",
    "            #distance_covered=distance_covered\n",
    "            # Add other attributes as needed\n",
    "        )"
   ]
  },
  {
   "cell_type": "code",
   "execution_count": 120,
   "metadata": {},
   "outputs": [],
   "source": [
    "populate_daily_activity_fact()"
   ]
  },
  {
   "cell_type": "code",
   "execution_count": 121,
   "metadata": {},
   "outputs": [],
   "source": [
    "db.commit()"
   ]
  },
  {
   "cell_type": "code",
   "execution_count": null,
   "metadata": {},
   "outputs": [],
   "source": [
    "query = select((f.participant.id, f.valid_time.date(), f.exercise_duration, f.calories, f.sleep_duration)\n",
    "               for f in Daily_Activity_Fact)\n",
    "fact_data = query[:]\n"
   ]
  },
  {
   "cell_type": "code",
   "execution_count": 131,
   "metadata": {},
   "outputs": [
    {
     "data": {
      "text/html": [
       "\n",
       "        <iframe\n",
       "            width=\"100%\"\n",
       "            height=\"650\"\n",
       "            src=\"http://127.0.0.1:8050/\"\n",
       "            frameborder=\"0\"\n",
       "            allowfullscreen\n",
       "            \n",
       "        ></iframe>\n",
       "        "
      ],
      "text/plain": [
       "<IPython.lib.display.IFrame at 0x1677d9010>"
      ]
     },
     "metadata": {},
     "output_type": "display_data"
    }
   ],
   "source": [
    "\n",
    "\n",
    "# Assume you have already retrieved data from your database and stored it in a DataFrame\n",
    "# For demonstration purposes, let's create a sample DataFrame\n",
    "data = {\n",
    "    'Date': pd.date_range(start='2022-01-01', end='2022-01-31'),\n",
    "    'Exercise_Duration': [60, 45, 70, 80, 90, 75, 60, 50, 45, 60, 65, 70, 75, 80, 85, 90, 95, 100, 105, 110, 115, 120, 125, 130, 135, 140, 145, 150, 155, 160, 165],\n",
    "    'Calories_Burned': [200, 180, 220, 250, 270, 230, 200, 190, 180, 200, 210, 220, 230, 240, 250, 260, 270, 280, 290, 300, 310, 320, 330, 340, 350, 360, 370, 380, 390, 400,410]\n",
    "}\n",
    "df = pd.DataFrame(data)\n",
    "\n",
    "# Initialize the Dash app\n",
    "app = dash.Dash(__name__)\n",
    "\n",
    "# Define the layout of the dashboard\n",
    "app.layout = html.Div([\n",
    "    html.H1(\"Fitness Dashboard\"),\n",
    "    \n",
    "    dcc.DatePickerRange(\n",
    "        id='date-picker-range',\n",
    "        min_date_allowed=df['Date'].min(),\n",
    "        max_date_allowed=df['Date'].max(),\n",
    "        start_date=df['Date'].min(),\n",
    "        end_date=df['Date'].max(),\n",
    "        display_format='YYYY-MM-DD',\n",
    "    ),\n",
    "    \n",
    "    dcc.Graph(id='exercise-duration-graph'),\n",
    "    dcc.Graph(id='calories-burned-graph')\n",
    "])\n",
    "\n",
    "# Define callback functions to update the graphs based on user input\n",
    "@app.callback(\n",
    "    Output('exercise-duration-graph', 'figure'),\n",
    "    Output('calories-burned-graph', 'figure'),\n",
    "    Input('date-picker-range', 'start_date'),\n",
    "    Input('date-picker-range', 'end_date')\n",
    ")\n",
    "def update_graphs(start_date, end_date):\n",
    "    filtered_df = df[(df['Date'] >= start_date) & (df['Date'] <= end_date)]\n",
    "    \n",
    "    # Create a line chart for exercise duration\n",
    "    exercise_duration_fig = px.line(filtered_df, x='Date', y='Exercise_Duration', title='Exercise Duration over Time')\n",
    "    \n",
    "    # Create a line chart for calories burned\n",
    "    calories_burned_fig = px.line(filtered_df, x='Date', y='Calories_Burned', title='Calories Burned over Time')\n",
    "    \n",
    "    return exercise_duration_fig, calories_burned_fig\n",
    "\n",
    "# Run the Dash app\n",
    "if __name__ == '__main__':\n",
    "    app.run_server(debug=True)\n"
   ]
  },
  {
   "cell_type": "code",
   "execution_count": 129,
   "metadata": {},
   "outputs": [
    {
     "data": {
      "text/html": [
       "\n",
       "        <iframe\n",
       "            width=\"100%\"\n",
       "            height=\"650\"\n",
       "            src=\"http://127.0.0.1:8050/\"\n",
       "            frameborder=\"0\"\n",
       "            allowfullscreen\n",
       "            \n",
       "        ></iframe>\n",
       "        "
      ],
      "text/plain": [
       "<IPython.lib.display.IFrame at 0x301271bb0>"
      ]
     },
     "metadata": {},
     "output_type": "display_data"
    }
   ],
   "source": [
    "import dash\n",
    "from dash import dcc, html\n",
    "import pandas as pd\n",
    "import plotly.express as px\n",
    "\n",
    "# Sample data\n",
    "data = {\n",
    "    'Category': ['A', 'B', 'C', 'D', 'E'],\n",
    "    'Value': [10, 20, 15, 25, 30]\n",
    "}\n",
    "\n",
    "# Create DataFrame\n",
    "df = pd.DataFrame(data)\n",
    "\n",
    "# Initialize the Dash app\n",
    "app = dash.Dash(__name__)\n",
    "\n",
    "# Define app layout\n",
    "app.layout = html.Div(children=[\n",
    "    html.H1(children='Simple Dashboard Example'),\n",
    "\n",
    "    html.Div(children='''\n",
    "        A simple example of a dashboard using Dash and Plotly.\n",
    "    '''),\n",
    "\n",
    "    dcc.Graph(\n",
    "        id='example-graph',\n",
    "        figure=px.bar(df, x='Category', y='Value', title='Sample Bar Chart')\n",
    "    )\n",
    "])\n",
    "\n",
    "# Run the app\n",
    "if __name__ == '__main__':\n",
    "    app.run_server(debug=True)\n"
   ]
  }
 ],
 "metadata": {
  "kernelspec": {
   "display_name": "Healthcare",
   "language": "python",
   "name": "python3"
  },
  "language_info": {
   "codemirror_mode": {
    "name": "ipython",
    "version": 3
   },
   "file_extension": ".py",
   "mimetype": "text/x-python",
   "name": "python",
   "nbconvert_exporter": "python",
   "pygments_lexer": "ipython3",
   "version": "3.12.1"
  }
 },
 "nbformat": 4,
 "nbformat_minor": 2
}
